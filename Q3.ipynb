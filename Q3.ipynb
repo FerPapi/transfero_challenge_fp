{
 "cells": [
  {
   "cell_type": "code",
   "execution_count": 3,
   "id": "7033b4c2",
   "metadata": {},
   "outputs": [
    {
     "name": "stdout",
     "output_type": "stream",
     "text": [
      "The autoreload extension is already loaded. To reload it, use:\n",
      "  %reload_ext autoreload\n"
     ]
    }
   ],
   "source": [
    "%load_ext autoreload\n",
    "%autoreload 2\n",
    "\n",
    "from datetime import datetime\n",
    "import pandas as pd\n",
    "import numpy as np\n",
    "import matplotlib.pyplot as plt\n",
    "%matplotlib inline\n",
    "\n",
    "from src.loader import load_csv\n",
    "from src.dataframe_operations import remove_col_from_dataframe"
   ]
  },
  {
   "cell_type": "code",
   "execution_count": 4,
   "id": "2663d0c8",
   "metadata": {},
   "outputs": [
    {
     "name": "stdout",
     "output_type": "stream",
     "text": [
      "Total Rows: 1372819\n"
     ]
    },
    {
     "data": {
      "text/html": [
       "<div>\n",
       "<style scoped>\n",
       "    .dataframe tbody tr th:only-of-type {\n",
       "        vertical-align: middle;\n",
       "    }\n",
       "\n",
       "    .dataframe tbody tr th {\n",
       "        vertical-align: top;\n",
       "    }\n",
       "\n",
       "    .dataframe thead th {\n",
       "        text-align: right;\n",
       "    }\n",
       "</style>\n",
       "<table border=\"1\" class=\"dataframe\">\n",
       "  <thead>\n",
       "    <tr style=\"text-align: right;\">\n",
       "      <th></th>\n",
       "      <th>exchange</th>\n",
       "      <th>symbol</th>\n",
       "      <th>timestamp</th>\n",
       "      <th>id</th>\n",
       "      <th>side</th>\n",
       "      <th>price</th>\n",
       "      <th>amount</th>\n",
       "      <th>datastamp</th>\n",
       "    </tr>\n",
       "  </thead>\n",
       "  <tbody>\n",
       "    <tr>\n",
       "      <th>0</th>\n",
       "      <td>ftx</td>\n",
       "      <td>BTC/USD</td>\n",
       "      <td>1622937600784019</td>\n",
       "      <td>1249808629</td>\n",
       "      <td>buy</td>\n",
       "      <td>35526</td>\n",
       "      <td>0.0005</td>\n",
       "      <td>2021-06-06 00:00:00.784019</td>\n",
       "    </tr>\n",
       "    <tr>\n",
       "      <th>1</th>\n",
       "      <td>ftx</td>\n",
       "      <td>BTC/USD</td>\n",
       "      <td>1622937601743093</td>\n",
       "      <td>1249808663</td>\n",
       "      <td>buy</td>\n",
       "      <td>35526</td>\n",
       "      <td>0.0002</td>\n",
       "      <td>2021-06-06 00:00:01.743093</td>\n",
       "    </tr>\n",
       "    <tr>\n",
       "      <th>2</th>\n",
       "      <td>ftx</td>\n",
       "      <td>BTC/USD</td>\n",
       "      <td>1622937602209357</td>\n",
       "      <td>1249808681</td>\n",
       "      <td>buy</td>\n",
       "      <td>35526</td>\n",
       "      <td>0.0057</td>\n",
       "      <td>2021-06-06 00:00:02.209357</td>\n",
       "    </tr>\n",
       "    <tr>\n",
       "      <th>3</th>\n",
       "      <td>ftx</td>\n",
       "      <td>BTC/USD</td>\n",
       "      <td>1622937602209357</td>\n",
       "      <td>1249808682</td>\n",
       "      <td>buy</td>\n",
       "      <td>35526</td>\n",
       "      <td>0.0039</td>\n",
       "      <td>2021-06-06 00:00:02.209357</td>\n",
       "    </tr>\n",
       "    <tr>\n",
       "      <th>4</th>\n",
       "      <td>ftx</td>\n",
       "      <td>BTC/USD</td>\n",
       "      <td>1622937602739688</td>\n",
       "      <td>1249808704</td>\n",
       "      <td>buy</td>\n",
       "      <td>35526</td>\n",
       "      <td>0.0001</td>\n",
       "      <td>2021-06-06 00:00:02.739688</td>\n",
       "    </tr>\n",
       "  </tbody>\n",
       "</table>\n",
       "</div>"
      ],
      "text/plain": [
       "  exchange   symbol         timestamp          id side  price  amount  \\\n",
       "0      ftx  BTC/USD  1622937600784019  1249808629  buy  35526  0.0005   \n",
       "1      ftx  BTC/USD  1622937601743093  1249808663  buy  35526  0.0002   \n",
       "2      ftx  BTC/USD  1622937602209357  1249808681  buy  35526  0.0057   \n",
       "3      ftx  BTC/USD  1622937602209357  1249808682  buy  35526  0.0039   \n",
       "4      ftx  BTC/USD  1622937602739688  1249808704  buy  35526  0.0001   \n",
       "\n",
       "                   datastamp  \n",
       "0 2021-06-06 00:00:00.784019  \n",
       "1 2021-06-06 00:00:01.743093  \n",
       "2 2021-06-06 00:00:02.209357  \n",
       "3 2021-06-06 00:00:02.209357  \n",
       "4 2021-06-06 00:00:02.739688  "
      ]
     },
     "execution_count": 4,
     "metadata": {},
     "output_type": "execute_result"
    }
   ],
   "source": [
    "filename_trades_dataset = 'datasets/dataset_trades.csv'\n",
    "\n",
    "df = load_csv(filename_trades_dataset)\n",
    "print(\"Total Rows:\", len(df))\n",
    "df = remove_col_from_dataframe(df, 'local_timestamp')\n",
    "df = remove_col_from_dataframe(df, 'Unnamed: 0')\n",
    "df['datastamp'] = pd.to_datetime(df['timestamp'],unit='us')\n",
    "\n",
    "df.head()"
   ]
  },
  {
   "cell_type": "code",
   "execution_count": null,
   "id": "21b51a62",
   "metadata": {},
   "outputs": [],
   "source": []
  }
 ],
 "metadata": {
  "kernelspec": {
   "display_name": "Python 3 (ipykernel)",
   "language": "python",
   "name": "python3"
  },
  "language_info": {
   "codemirror_mode": {
    "name": "ipython",
    "version": 3
   },
   "file_extension": ".py",
   "mimetype": "text/x-python",
   "name": "python",
   "nbconvert_exporter": "python",
   "pygments_lexer": "ipython3",
   "version": "3.8.10"
  }
 },
 "nbformat": 4,
 "nbformat_minor": 5
}
